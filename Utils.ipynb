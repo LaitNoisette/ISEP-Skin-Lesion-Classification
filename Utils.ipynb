{
  "nbformat": 4,
  "nbformat_minor": 0,
  "metadata": {
    "colab": {
      "name": "Utils.ipynb",
      "provenance": [],
      "collapsed_sections": [],
      "authorship_tag": "ABX9TyOhF9NnTEsVQDHuJTN9Yvho"
    },
    "kernelspec": {
      "name": "python3",
      "display_name": "Python 3"
    }
  },
  "cells": [
    {
      "cell_type": "code",
      "metadata": {
        "id": "AyQdYVxIKlVb",
        "colab_type": "code",
        "colab": {}
      },
      "source": [
        "from google.colab.patches import cv2_imshow"
      ],
      "execution_count": 0,
      "outputs": []
    },
    {
      "cell_type": "code",
      "metadata": {
        "id": "JtdUt9CTTyY1",
        "colab_type": "code",
        "colab": {}
      },
      "source": [
        "def imShowScale(im,scale=10):\n",
        "    cv2_imshow(cv2.resize(im,(int(im.shape[1]/scale),int(im.shape[0]/scale))))"
      ],
      "execution_count": 0,
      "outputs": []
    }
  ]
}